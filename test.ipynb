{
 "cells": [
  {
   "cell_type": "code",
   "execution_count": 38,
   "source": [
    "from multiprocessing import Process, Event, Queue\n",
    "from threading import Thread\n",
    "result_queue = Queue()\n",
    "task_return_event = Event()\n",
    "finished = False\n",
    "def receive_result_thread():\n",
    "    total_retries = 0\n",
    "    print('begin')\n",
    "    while True:\n",
    "        while result_queue.empty():\n",
    "            task_return_event.clear()\n",
    "            print('1')\n",
    "            task_return_event.wait()\n",
    "            print('2')\n",
    "            if finished:\n",
    "                print(total_retries)\n",
    "                result_queue.put(total_retries)\n",
    "                return\n",
    "        a = result_queue.put('asd')\n",
    "receiving_thread = Thread(target=receive_result_thread)\n",
    "receiving_thread.start()"
   ],
   "outputs": [
    {
     "output_type": "stream",
     "name": "stdout",
     "text": [
      "begin\n",
      "1\n"
     ]
    }
   ],
   "metadata": {}
  },
  {
   "cell_type": "code",
   "execution_count": 40,
   "source": [
    "finished = True\n",
    "task_return_event.set()\n",
    "receiving_thread.join()"
   ],
   "outputs": [],
   "metadata": {}
  },
  {
   "cell_type": "code",
   "execution_count": 41,
   "source": [
    "result_queue.get()\n"
   ],
   "outputs": [
    {
     "output_type": "execute_result",
     "data": {
      "text/plain": [
       "0"
      ]
     },
     "metadata": {},
     "execution_count": 41
    }
   ],
   "metadata": {}
  },
  {
   "cell_type": "code",
   "execution_count": null,
   "source": [],
   "outputs": [],
   "metadata": {}
  }
 ],
 "metadata": {
  "orig_nbformat": 4,
  "language_info": {
   "name": "python",
   "version": "3.8.10",
   "mimetype": "text/x-python",
   "codemirror_mode": {
    "name": "ipython",
    "version": 3
   },
   "pygments_lexer": "ipython3",
   "nbconvert_exporter": "python",
   "file_extension": ".py"
  },
  "kernelspec": {
   "name": "python3",
   "display_name": "Python 3.8.10 64-bit"
  },
  "interpreter": {
   "hash": "f08d82a53399fcb95c7cb52c9e425fb4e2238b39fff0b55ac36bc1d612850443"
  }
 },
 "nbformat": 4,
 "nbformat_minor": 2
}